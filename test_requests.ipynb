{
 "cells": [
  {
   "cell_type": "code",
   "execution_count": 2,
   "id": "built-condition",
   "metadata": {},
   "outputs": [],
   "source": [
    "import requests\n",
    "import json"
   ]
  },
  {
   "cell_type": "code",
   "execution_count": 3,
   "id": "respected-horizon",
   "metadata": {},
   "outputs": [],
   "source": [
    "url = \"http://127.0.0.1:5000/\"\n",
    "#GET\n",
    "\n",
    "endpoint_user = \"users\"\n",
    "endopoint_message= \"messages\"\n",
    "endopoint_user_message= \"<episode>/<name>\"\n",
    "\n",
    "\n",
    "#POST\n",
    "endpoint_add_episode = \"addepisode/\"\n",
    "endpoint_add = \"add/\""
   ]
  },
  {
   "cell_type": "markdown",
   "id": "wicked-assessment",
   "metadata": {},
   "source": [
    "### GET"
   ]
  },
  {
   "cell_type": "markdown",
   "id": "actual-association",
   "metadata": {},
   "source": [
    "#### Obtenemos todos los personajes"
   ]
  },
  {
   "cell_type": "code",
   "execution_count": null,
   "id": "italic-fabric",
   "metadata": {},
   "outputs": [],
   "source": [
    "user = requests.get(url + endpoint_user).json()\n",
    "user[:5]"
   ]
  },
  {
   "cell_type": "markdown",
   "id": "hydraulic-stable",
   "metadata": {},
   "source": [
    "#### Obtenemos todas las frases y quien las dijo.\n"
   ]
  },
  {
   "cell_type": "code",
   "execution_count": null,
   "id": "incorporate-walnut",
   "metadata": {},
   "outputs": [],
   "source": [
    "mess = requests.get(url + endopoint_message).json()\n",
    "mess[:5]"
   ]
  },
  {
   "cell_type": "markdown",
   "id": "collaborative-target",
   "metadata": {},
   "source": [
    "#### Elegimos el personaje y el capitulo para obtener todos sus dialogos."
   ]
  },
  {
   "cell_type": "code",
   "execution_count": null,
   "id": "advisory-platinum",
   "metadata": {},
   "outputs": [],
   "source": [
    "user = input(\"Insert name: \")\n",
    "episode = input(\"Insert episode 1,2,3 :  \")\n",
    "\n",
    "user_message = requests.get(url + episode + \"/\" + user).json()\n",
    "print(url + episode + \"/\" + user)\n",
    "user_message[:5]"
   ]
  },
  {
   "cell_type": "code",
   "execution_count": null,
   "id": "searching-nitrogen",
   "metadata": {},
   "outputs": [],
   "source": []
  },
  {
   "cell_type": "markdown",
   "id": "stunning-farming",
   "metadata": {},
   "source": [
    "### POST  "
   ]
  },
  {
   "cell_type": "markdown",
   "id": "opposed-residence",
   "metadata": {},
   "source": [
    "#### Añadimos un episodio"
   ]
  },
  {
   "cell_type": "code",
   "execution_count": null,
   "id": "registered-heading",
   "metadata": {},
   "outputs": [],
   "source": [
    "episode = input(\"What episode do you want to insert? :  \")\n",
    "\n",
    "add_episode = requests.post(url + endpoint_add_episode + episode)\n",
    "\n",
    "\n",
    "print(url + endpoint_add_episode + episode)\n",
    "\n",
    "#add_episode"
   ]
  },
  {
   "cell_type": "markdown",
   "id": "signed-communist",
   "metadata": {},
   "source": [
    "#### Añadimos episodio y personaje."
   ]
  },
  {
   "cell_type": "code",
   "execution_count": 4,
   "id": "continuous-match",
   "metadata": {},
   "outputs": [
    {
     "name": "stdout",
     "output_type": "stream",
     "text": [
      "What episode do you want to insert? :  1\n",
      "What character do you want to insert? :  Kenny\n",
      "http://127.0.0.1:5000/add/1/Kenny\n"
     ]
    },
    {
     "data": {
      "text/plain": [
       "<Response [405]>"
      ]
     },
     "execution_count": 4,
     "metadata": {},
     "output_type": "execute_result"
    }
   ],
   "source": [
    "episode = input(\"What episode do you want to insert? :  \")\n",
    "character = input(\"What character do you want to insert? :  \")\n",
    "\n",
    "add_user = requests.post(url + endpoint_add + episode +\"/\"+ character )\n",
    "\n",
    "print(url + endpoint_add + episode +\"/\"+ character )\n",
    "\n",
    "#add_user"
   ]
  },
  {
   "cell_type": "code",
   "execution_count": null,
   "id": "advance-medium",
   "metadata": {},
   "outputs": [],
   "source": []
  },
  {
   "cell_type": "markdown",
   "id": "white-binary",
   "metadata": {},
   "source": [
    "#### Añadimos episodio, personaje y frase."
   ]
  },
  {
   "cell_type": "code",
   "execution_count": 6,
   "id": "equivalent-maine",
   "metadata": {},
   "outputs": [
    {
     "name": "stdout",
     "output_type": "stream",
     "text": [
      "What episode do you want to insert? :  2\n",
      "What phrase do you want to insert? :  Hello all\n",
      "What character do you want to insert? :  Chef\n",
      "http://127.0.0.1:5000/add/2/Hello%20all/Chef\n"
     ]
    },
    {
     "data": {
      "text/plain": [
       "<Response [405]>"
      ]
     },
     "execution_count": 6,
     "metadata": {},
     "output_type": "execute_result"
    }
   ],
   "source": [
    "episode = input(\"What episode do you want to insert? :  \")\n",
    "message = input(\"What phrase do you want to insert? :  \")\n",
    "character = input(\"What character do you want to insert? :  \")\n",
    "\n",
    "message = message.replace(\" \", \"%20\")\n",
    "\n",
    "add_dialogue =  requests.post(url + endpoint_add + episode + \"/\"+ message + \"/\" + character)\n",
    "\n",
    "print(url + endpoint_add + episode + \"/\"+ message + \"/\" + character)\n",
    "\n",
    "#add_dialogue"
   ]
  },
  {
   "cell_type": "code",
   "execution_count": null,
   "id": "eligible-appraisal",
   "metadata": {},
   "outputs": [],
   "source": []
  }
 ],
 "metadata": {
  "kernelspec": {
   "display_name": "Python 3",
   "language": "python",
   "name": "python3"
  },
  "language_info": {
   "codemirror_mode": {
    "name": "ipython",
    "version": 3
   },
   "file_extension": ".py",
   "mimetype": "text/x-python",
   "name": "python",
   "nbconvert_exporter": "python",
   "pygments_lexer": "ipython3",
   "version": "3.8.5"
  }
 },
 "nbformat": 4,
 "nbformat_minor": 5
}
