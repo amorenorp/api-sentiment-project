{
 "cells": [
  {
   "cell_type": "code",
   "execution_count": 1,
   "id": "egyptian-architect",
   "metadata": {},
   "outputs": [],
   "source": [
    "import requests\n",
    "import json"
   ]
  },
  {
   "cell_type": "code",
   "execution_count": 2,
   "id": "unknown-airport",
   "metadata": {},
   "outputs": [],
   "source": [
    "url = \"http://127.0.0.1:5000/\"\n",
    "#GET\n",
    "\n",
    "endpoint_user = \"users\"\n",
    "endopoint_message= \"messages\"\n",
    "endopoint_user_message= \"<episode>/<name>\"\n",
    "\n",
    "\n",
    "#POST\n",
    "endpoint_add_episode = \"addepisode/\"\n",
    "endpoint_add = \"add/\""
   ]
  },
  {
   "cell_type": "markdown",
   "id": "innovative-salon",
   "metadata": {},
   "source": [
    "### GET"
   ]
  },
  {
   "cell_type": "markdown",
   "id": "excellent-supplement",
   "metadata": {},
   "source": [
    "#### Obtenemos todos los personajes"
   ]
  },
  {
   "cell_type": "code",
   "execution_count": 3,
   "id": "falling-grenada",
   "metadata": {},
   "outputs": [
    {
     "data": {
      "text/plain": [
       "[{'Character': 'A Man'},\n",
       " {'Character': 'A Sign-Holder'},\n",
       " {'Character': 'Patrons'},\n",
       " {'Character': 'Townsfolk'},\n",
       " {'Character': 'A Boy'}]"
      ]
     },
     "execution_count": 3,
     "metadata": {},
     "output_type": "execute_result"
    }
   ],
   "source": [
    "user = requests.get(url + endpoint_user).json()\n",
    "user[:5]"
   ]
  },
  {
   "cell_type": "markdown",
   "id": "sound-artwork",
   "metadata": {},
   "source": [
    "#### Obtenemos todas las frases y quien las dijo.\n"
   ]
  },
  {
   "cell_type": "code",
   "execution_count": 4,
   "id": "biological-chancellor",
   "metadata": {},
   "outputs": [
    {
     "data": {
      "text/plain": [
       "[{'Episode': '1',\n",
       "  'Character': 'Stan',\n",
       "  'Line': 'You guys, you guys! Chef is going away.'},\n",
       " {'Episode': '1', 'Character': 'Kyle', 'Line': 'Going away? For how long'},\n",
       " {'Episode': '1', 'Character': 'Stan', 'Line': 'Forever'},\n",
       " {'Episode': '1', 'Character': 'Chef', 'Line': \"I'm sorry boys\"},\n",
       " {'Episode': '1',\n",
       "  'Character': 'Stan',\n",
       "  'Line': \"Chef said he's been bored, so he joining a group called the Super Adventure Club.\"}]"
      ]
     },
     "execution_count": 4,
     "metadata": {},
     "output_type": "execute_result"
    }
   ],
   "source": [
    "mess = requests.get(url + endopoint_message).json()\n",
    "mess[:5]"
   ]
  },
  {
   "cell_type": "markdown",
   "id": "helpful-immunology",
   "metadata": {},
   "source": [
    "#### Elegimos el personaje y el capitulo para obtener todos sus dialogos."
   ]
  },
  {
   "cell_type": "code",
   "execution_count": 5,
   "id": "earlier-generic",
   "metadata": {},
   "outputs": [
    {
     "name": "stdout",
     "output_type": "stream",
     "text": [
      "Insert name: Chef\n",
      "Insert episode 1,2,3 :  1\n",
      "http://127.0.0.1:5000/1/Chef\n"
     ]
    },
    {
     "data": {
      "text/plain": [
       "[{'Episode': '1', 'Character': 'Chef', 'Line': \"I'm sorry boys\"},\n",
       " {'Episode': '1', 'Character': 'Chef', 'Line': 'Wow'},\n",
       " {'Episode': '1',\n",
       "  'Character': 'Chef',\n",
       "  'Line': \"What's the meaning of life? Why are we here\"},\n",
       " {'Episode': '1', 'Character': 'Chef', 'Line': 'Good-bye! .'},\n",
       " {'Episode': '1', 'Character': 'Chef', 'Line': 'Hello there, children'}]"
      ]
     },
     "execution_count": 5,
     "metadata": {},
     "output_type": "execute_result"
    }
   ],
   "source": [
    "user = input(\"Insert name: \")\n",
    "episode = input(\"Insert episode 1,2,3 :  \")\n",
    "\n",
    "user_message = requests.get(url + episode + \"/\" + user).json()\n",
    "print(url + episode + \"/\" + user)\n",
    "user_message[:5]"
   ]
  },
  {
   "cell_type": "code",
   "execution_count": null,
   "id": "ancient-mobile",
   "metadata": {},
   "outputs": [],
   "source": []
  },
  {
   "cell_type": "markdown",
   "id": "beginning-boundary",
   "metadata": {},
   "source": [
    "### POST  "
   ]
  },
  {
   "cell_type": "markdown",
   "id": "medium-throat",
   "metadata": {},
   "source": [
    "#### Añadimos un episodio"
   ]
  },
  {
   "cell_type": "code",
   "execution_count": 8,
   "id": "saving-exhibition",
   "metadata": {},
   "outputs": [
    {
     "name": "stdout",
     "output_type": "stream",
     "text": [
      "What episode do you want to add? :  2\n",
      "http://127.0.0.1:5000/addepisode/2\n"
     ]
    }
   ],
   "source": [
    "episode = input(\"What episode do you want to add? :  \")\n",
    "\n",
    "add_episode = requests.post(url + endpoint_add_episode + episode)\n",
    "\n",
    "\n",
    "print(url + endpoint_add_episode + episode)\n",
    "\n",
    "#add_episode"
   ]
  },
  {
   "cell_type": "markdown",
   "id": "handed-haven",
   "metadata": {},
   "source": [
    "#### Añadimos episodio y personaje."
   ]
  },
  {
   "cell_type": "code",
   "execution_count": 7,
   "id": "hourly-combination",
   "metadata": {},
   "outputs": [
    {
     "name": "stdout",
     "output_type": "stream",
     "text": [
      "What episode do you want to insert? :  1\n",
      "What character do you want to insert? :  Pepe\n",
      "http://127.0.0.1:5000/add/1/Pepe\n"
     ]
    }
   ],
   "source": [
    "episode = input(\"What episode do you want to add? :  \")\n",
    "character = input(\"What character do you want to add? :  \")\n",
    "\n",
    "add_user = requests.post(url + endpoint_add + episode +\"/\"+ character )\n",
    "\n",
    "print(url + endpoint_add + episode +\"/\"+ character )\n",
    "\n",
    "#add_user"
   ]
  },
  {
   "cell_type": "code",
   "execution_count": null,
   "id": "statistical-detective",
   "metadata": {},
   "outputs": [],
   "source": []
  },
  {
   "cell_type": "markdown",
   "id": "brazilian-episode",
   "metadata": {},
   "source": [
    "#### Añadimos episodio, personaje y frase."
   ]
  },
  {
   "cell_type": "code",
   "execution_count": 9,
   "id": "requested-newark",
   "metadata": {},
   "outputs": [
    {
     "name": "stdout",
     "output_type": "stream",
     "text": [
      "What episode do you want to add? :  5\n",
      "What phrase do you want to add? :  Hello world\n",
      "What character do you want to add? :  Chef\n",
      "http://127.0.0.1:5000/add/5/Hello%20world/Chef\n"
     ]
    }
   ],
   "source": [
    "episode = input(\"What episode do you want to add? :  \")\n",
    "message = input(\"What phrase do you want to add? :  \")\n",
    "character = input(\"What character do you want to add? :  \")\n",
    "\n",
    "message = message.replace(\" \", \"%20\")\n",
    "\n",
    "add_dialogue =  requests.post(url + endpoint_add + episode + \"/\"+ message + \"/\" + character)\n",
    "\n",
    "print(url + endpoint_add + episode + \"/\"+ message + \"/\" + character)\n",
    "\n",
    "#add_dialogue"
   ]
  },
  {
   "cell_type": "code",
   "execution_count": null,
   "id": "hispanic-funeral",
   "metadata": {},
   "outputs": [],
   "source": []
  }
 ],
 "metadata": {
  "kernelspec": {
   "display_name": "Python 3",
   "language": "python",
   "name": "python3"
  },
  "language_info": {
   "codemirror_mode": {
    "name": "ipython",
    "version": 3
   },
   "file_extension": ".py",
   "mimetype": "text/x-python",
   "name": "python",
   "nbconvert_exporter": "python",
   "pygments_lexer": "ipython3",
   "version": "3.8.5"
  }
 },
 "nbformat": 4,
 "nbformat_minor": 5
}
